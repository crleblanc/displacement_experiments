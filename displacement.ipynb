{
 "metadata": {
  "name": ""
 },
 "nbformat": 3,
 "nbformat_minor": 0,
 "worksheets": [
  {
   "cells": [
    {
     "cell_type": "markdown",
     "metadata": {},
     "source": [
      "# Detecting GPS Displacement\n",
      "Detecting GPS displacement using k-means clustering for real earthquake data from the November 2016 Kaikoura earthquake in New Zealand.  See geonet.org.nz for more information and access to these data.  The following file can be run on the command line, we're using it interactively here too.  Keep in mind the default is to look for two clusters.  Look at the -c option to change this."
     ]
    },
    {
     "cell_type": "code",
     "collapsed": false,
     "input": [
      "%load displacement.py"
     ],
     "language": "python",
     "metadata": {},
     "outputs": [],
     "prompt_number": 1
    },
    {
     "cell_type": "code",
     "collapsed": false,
     "input": [
      "#!/usr/bin/env python\n",
      "import argparse\n",
      "import pandas as pd\n",
      "import numpy as np\n",
      "import matplotlib.pyplot as plt\n",
      "from sklearn.cluster import KMeans\n",
      "\n",
      "# This script read input GPS data and uses KMeans clustering to determine the displacement in three dimensions.  Note: this is\n",
      "# very dependant on the input data quality.  Noisy input will give meaningless results.  Please check the graphs to confirm a good fit.\n",
      "\n",
      "parser = argparse.ArgumentParser(description='Find displacements in 3 dimensions in input GPS records')\n",
      "parser.add_argument('filenames', type=str, nargs='+', help='One or more input files to process')\n",
      "parser.add_argument('-c', '--clusters', dest='clusters', type=int, default=2,\n",
      "                    help='The number of clusters to find. Usually 2, a cluster before and after the quake')\n",
      "parser.add_argument('-f', dest='format', type=str, default='LC', choices=['LC', 'reformatted'],\n",
      "                    help='Use either the LC format (default) or reformatted')\n",
      "\n",
      "def read_file(fname, cols, skiprows):\n",
      "    data = pd.read_csv(fname, delim_whitespace=True, usecols=cols, skiprows=skiprows)\n",
      "    # drop any junk, eg: the second header line\n",
      "    data = data.dropna()\n",
      "    # using a normal integer index starting from 0\n",
      "    data = data.reset_index(drop=True)\n",
      "    return data\n",
      "\n",
      "def get_displacement(dframe, columns, n):\n",
      "    \"\"\"Use KMeans clustering to find the cluster centers and return a modified dataframe and time ordered numpy array of displacements (XYZ)\"\"\"\n",
      "    km = KMeans(n_clusters=n)\n",
      "    clusters = km.fit_predict(dframe[columns].values)\n",
      "\n",
      "    # add a new column for the cluster id\n",
      "    dframe['cluster_id'] = pd.Series(clusters, index=dframe.index)\n",
      "\n",
      "    # add columns for the mean X/Y/Z for each cluster from min to max time (straight lines)\n",
      "    mean_columns = []\n",
      "    for col in columns:\n",
      "        col_name = col + '_mean'\n",
      "        mean_columns.append(col_name)\n",
      "        dframe[col_name] = pd.Series(np.zeros(dframe.shape[0], dtype=np.float64), index=dframe.index)\n",
      "\n",
      "    cluster_times = []\n",
      "\n",
      "    # get a list of min/max times of clusters so we can sort them by time, this will give us relative displacement by time\n",
      "    for cent_idx, centers in enumerate(km.cluster_centers_):\n",
      "\n",
      "        times = dframe.index[dframe['cluster_id'] == cent_idx]\n",
      "        cluster_times.append(times.mean())\n",
      "\n",
      "        # record the mean value of the cluster for each component in the output dataframe\n",
      "        for col_idx, col_name in enumerate(mean_columns):\n",
      "            dframe[col_name][times] = centers[col_idx]\n",
      "\n",
      "\n",
      "    # record the relative displacement\n",
      "    displacements = []\n",
      "    cluster_idx = 0\n",
      "    previous_xyz = None\n",
      "    for sorted_idx in np.argsort(cluster_times):\n",
      "        if cluster_idx == 0:\n",
      "            previous_xyz = km.cluster_centers_[sorted_idx]\n",
      "\n",
      "        else:\n",
      "            delta = km.cluster_centers_[sorted_idx] - previous_xyz\n",
      "            displacements.append(delta)\n",
      "\n",
      "        previous_xyz = km.cluster_centers_[sorted_idx]\n",
      "\n",
      "        cluster_idx += 1\n",
      "\n",
      "    return np.array(displacements)\n",
      "\n",
      "def main():\n",
      "    args = parser.parse_args()\n",
      "\n",
      "    # columns in the input file to parse.  LC is the unformatted full version\n",
      "    if args.format == 'LC':\n",
      "        cols = ['dNorth', 'dEast', 'dHeight']\n",
      "        skiprows = [1]\n",
      "    else:\n",
      "        cols = ['n(cm)', 'e(cm)', 'u(cm)']\n",
      "        skiprows = None\n",
      "\n",
      "\n",
      "    for fname in args.filenames:\n",
      "        dframe = read_file(fname, cols, skiprows)\n",
      "        disp = get_displacement(dframe, cols, args.clusters)\n",
      "\n",
      "        title = 'File: %s, displacement(s) for' % fname\n",
      "        for i, event in enumerate(disp):\n",
      "           title += (' event %d :%s=%.2f %s=%.2f %s=%.2f' % (i+1, cols[0], event[0], cols[1], event[1], cols[2], event[2]))\n",
      "\n",
      "        dframe.plot(title=title)\n",
      "\n",
      "    plt.show()\n",
      "\n",
      "if __name__ == '__main__':\n",
      "    main()"
     ],
     "language": "python",
     "metadata": {},
     "outputs": []
    },
    {
     "cell_type": "markdown",
     "metadata": {},
     "source": [
      "## Run this command line program on all the .reformat files using the default of 2 clusters (one quake):"
     ]
    },
    {
     "cell_type": "code",
     "collapsed": false,
     "input": [],
     "language": "python",
     "metadata": {},
     "outputs": []
    },
    {
     "cell_type": "code",
     "collapsed": false,
     "input": [
      "%run displacement.py -f reformatted *.reformat"
     ],
     "language": "python",
     "metadata": {},
     "outputs": [],
     "prompt_number": 2
    },
    {
     "cell_type": "markdown",
     "metadata": {},
     "source": [
      "## Run the script on all the 1Hz input files assuming two clusters (one quake).  This uses the original LC format:"
     ]
    },
    {
     "cell_type": "code",
     "collapsed": false,
     "input": [
      "%run displacement.py *.LC"
     ],
     "language": "python",
     "metadata": {},
     "outputs": []
    }
   ],
   "metadata": {}
  }
 ]
}